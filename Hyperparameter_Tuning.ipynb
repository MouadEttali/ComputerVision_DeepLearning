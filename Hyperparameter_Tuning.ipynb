{
  "nbformat": 4,
  "nbformat_minor": 0,
  "metadata": {
    "colab": {
      "name": "Hyperparameter Tuning.ipynb",
      "provenance": [],
      "collapsed_sections": [],
      "include_colab_link": true
    },
    "kernelspec": {
      "name": "python3",
      "display_name": "Python 3"
    },
    "language_info": {
      "name": "python"
    },
    "accelerator": "GPU"
  },
  "cells": [
    {
      "cell_type": "markdown",
      "metadata": {
        "id": "view-in-github",
        "colab_type": "text"
      },
      "source": [
        "<a href=\"https://colab.research.google.com/github/MouadEttali/ComputerVision_DeepLearning/blob/main/Hyperparameter_Tuning.ipynb\" target=\"_parent\"><img src=\"https://colab.research.google.com/assets/colab-badge.svg\" alt=\"Open In Colab\"/></a>"
      ]
    },
    {
      "cell_type": "code",
      "execution_count": 1,
      "metadata": {
        "colab": {
          "base_uri": "https://localhost:8080/"
        },
        "id": "zIAtDl1UjCxp",
        "outputId": "415edf54-1567-4c03-b833-19827b145ee6"
      },
      "outputs": [
        {
          "output_type": "stream",
          "name": "stdout",
          "text": [
            "Downloading data from https://storage.googleapis.com/tensorflow/tf-keras-datasets/mnist.npz\n",
            "11493376/11490434 [==============================] - 0s 0us/step\n",
            "11501568/11490434 [==============================] - 0s 0us/step\n"
          ]
        },
        {
          "output_type": "execute_result",
          "data": {
            "text/plain": [
              "((60000, 28, 28), (60000,), (10000, 28, 28), (10000,))"
            ]
          },
          "metadata": {},
          "execution_count": 1
        }
      ],
      "source": [
        "# Load MNIST\n",
        "\n",
        "from tensorflow.keras.datasets import mnist\n",
        "\n",
        "(X_train, y_train), (X_test, y_test) = mnist.load_data()\n",
        "\n",
        "X_train.shape, y_train.shape, X_test.shape, y_test.shape"
      ]
    },
    {
      "cell_type": "code",
      "source": [
        "# Visualize the first input\n",
        "\n",
        "import matplotlib.pyplot as plt\n",
        "\n",
        "plt.imshow(X_train[0])"
      ],
      "metadata": {
        "colab": {
          "base_uri": "https://localhost:8080/",
          "height": 283
        },
        "id": "yJVDTGbqwE-y",
        "outputId": "d68fd95e-8670-4f73-f540-a3ac12516d20"
      },
      "execution_count": 2,
      "outputs": [
        {
          "output_type": "execute_result",
          "data": {
            "text/plain": [
              "<matplotlib.image.AxesImage at 0x7f2c05493bd0>"
            ]
          },
          "metadata": {},
          "execution_count": 2
        },
        {
          "output_type": "display_data",
          "data": {
            "image/png": "[encoded data removed]",
            "text/plain": [
              "<Figure size 432x288 with 1 Axes>"
            ]
          },
          "metadata": {
            "needs_background": "light"
          }
        }
      ]
    },
    {
      "cell_type": "code",
      "source": [
        "# Create Adam Optimizer\n",
        "\n",
        "from tensorflow.keras.optimizers import Adam\n",
        "\n",
        "opt_1 = Adam(learning_rate=0.001)"
      ],
      "metadata": {
        "id": "g2DFT5jzkVBp"
      },
      "execution_count": 3,
      "outputs": []
    },
    {
      "cell_type": "code",
      "source": [
        "# Base Model (Model 1)\n",
        "\n",
        "from tensorflow.keras import layers\n",
        "from tensorflow.keras.models import Sequential\n",
        "\n",
        "model_1 = Sequential([layers.Input((28, 28)),\n",
        "                     layers.Lambda(lambda x: x / 255),\n",
        "                     layers.Flatten(),\n",
        "                     layers.Dense(10, activation='softmax')])\n",
        "\n",
        "model_1.compile(optimizer=opt_1, loss='sparse_categorical_crossentropy', metrics=['accuracy'])\n",
        "\n",
        "model_1.fit(x=X_train, y=y_train, validation_data=(X_test, y_test), epochs=10)"
      ],
      "metadata": {
        "colab": {
          "base_uri": "https://localhost:8080/"
        },
        "id": "ImZXpbIkjdft",
        "outputId": "edebd9d9-af70-462a-e6e7-c21d72921abd"
      },
      "execution_count": 4,
      "outputs": [
        {
          "output_type": "stream",
          "name": "stdout",
          "text": [
            "Epoch 1/10\n",
            "1875/1875 [==============================] - 8s 3ms/step - loss: 0.4668 - accuracy: 0.8786 - val_loss: 0.3046 - val_accuracy: 0.9169\n",
            "Epoch 2/10\n",
            "1875/1875 [==============================] - 5s 3ms/step - loss: 0.3031 - accuracy: 0.9148 - val_loss: 0.2807 - val_accuracy: 0.9205\n",
            "Epoch 3/10\n",
            "1875/1875 [==============================] - 5s 3ms/step - loss: 0.2832 - accuracy: 0.9208 - val_loss: 0.2723 - val_accuracy: 0.9246\n",
            "Epoch 4/10\n",
            "1875/1875 [==============================] - 5s 3ms/step - loss: 0.2733 - accuracy: 0.9239 - val_loss: 0.2722 - val_accuracy: 0.9249\n",
            "Epoch 5/10\n",
            "1875/1875 [==============================] - 5s 3ms/step - loss: 0.2665 - accuracy: 0.9253 - val_loss: 0.2657 - val_accuracy: 0.9268\n",
            "Epoch 6/10\n",
            "1875/1875 [==============================] - 5s 3ms/step - loss: 0.2620 - accuracy: 0.9273 - val_loss: 0.2634 - val_accuracy: 0.9273\n",
            "Epoch 7/10\n",
            "1875/1875 [==============================] - 5s 3ms/step - loss: 0.2582 - accuracy: 0.9280 - val_loss: 0.2623 - val_accuracy: 0.9269\n",
            "Epoch 8/10\n",
            "1875/1875 [==============================] - 5s 3ms/step - loss: 0.2552 - accuracy: 0.9291 - val_loss: 0.2672 - val_accuracy: 0.9254\n",
            "Epoch 9/10\n",
            "1875/1875 [==============================] - 5s 3ms/step - loss: 0.2527 - accuracy: 0.9307 - val_loss: 0.2627 - val_accuracy: 0.9273\n",
            "Epoch 10/10\n",
            "1875/1875 [==============================] - 5s 3ms/step - loss: 0.2513 - accuracy: 0.9304 - val_loss: 0.2643 - val_accuracy: 0.9277\n"
          ]
        },
        {
          "output_type": "execute_result",
          "data": {
            "text/plain": [
              "<keras.callbacks.History at 0x7f2c004e6710>"
            ]
          },
          "metadata": {},
          "execution_count": 4
        }
      ]
    },
    {
      "cell_type": "code",
      "source": [
        "# Adding number of parameters (Model 2)\n",
        "\n",
        "opt_2 = Adam(learning_rate=0.001)\n",
        "\n",
        "model_2 = Sequential([layers.Input((28, 28)),\n",
        "                     layers.Lambda(lambda x: x / 255),\n",
        "                     layers.Flatten(),\n",
        "                     layers.Dense(32, activation='relu'),\n",
        "                     layers.Dense(10, activation='softmax')])\n",
        "\n",
        "model_2.compile(optimizer=opt_2, loss='sparse_categorical_crossentropy', metrics=['accuracy'])\n",
        "\n",
        "model_2.fit(x=X_train, y=y_train, validation_data=(X_test, y_test), epochs=10)"
      ],
      "metadata": {
        "colab": {
          "base_uri": "https://localhost:8080/"
        },
        "id": "p1oPQH51kUDk",
        "outputId": "e777f0b6-f96e-4916-e19a-a34874322289"
      },
      "execution_count": 5,
      "outputs": [
        {
          "output_type": "stream",
          "name": "stdout",
          "text": [
            "Epoch 1/10\n",
            "1875/1875 [==============================] - 7s 4ms/step - loss: 0.3652 - accuracy: 0.8985 - val_loss: 0.2195 - val_accuracy: 0.9359\n",
            "Epoch 2/10\n",
            "1875/1875 [==============================] - 6s 3ms/step - loss: 0.1975 - accuracy: 0.9429 - val_loss: 0.1671 - val_accuracy: 0.9530\n",
            "Epoch 3/10\n",
            "1875/1875 [==============================] - 6s 3ms/step - loss: 0.1546 - accuracy: 0.9554 - val_loss: 0.1516 - val_accuracy: 0.9553\n",
            "Epoch 4/10\n",
            "1875/1875 [==============================] - 6s 3ms/step - loss: 0.1297 - accuracy: 0.9618 - val_loss: 0.1428 - val_accuracy: 0.9562\n",
            "Epoch 5/10\n",
            "1875/1875 [==============================] - 6s 3ms/step - loss: 0.1146 - accuracy: 0.9659 - val_loss: 0.1285 - val_accuracy: 0.9604\n",
            "Epoch 6/10\n",
            "1875/1875 [==============================] - 6s 3ms/step - loss: 0.1033 - accuracy: 0.9691 - val_loss: 0.1234 - val_accuracy: 0.9639\n",
            "Epoch 7/10\n",
            "1875/1875 [==============================] - 6s 3ms/step - loss: 0.0946 - accuracy: 0.9717 - val_loss: 0.1228 - val_accuracy: 0.9649\n",
            "Epoch 8/10\n",
            "1875/1875 [==============================] - 6s 3ms/step - loss: 0.0874 - accuracy: 0.9743 - val_loss: 0.1131 - val_accuracy: 0.9668\n",
            "Epoch 9/10\n",
            "1875/1875 [==============================] - 6s 3ms/step - loss: 0.0814 - accuracy: 0.9754 - val_loss: 0.1103 - val_accuracy: 0.9677\n",
            "Epoch 10/10\n",
            "1875/1875 [==============================] - 6s 3ms/step - loss: 0.0754 - accuracy: 0.9769 - val_loss: 0.1141 - val_accuracy: 0.9669\n"
          ]
        },
        {
          "output_type": "execute_result",
          "data": {
            "text/plain": [
              "<keras.callbacks.History at 0x7f2c004636d0>"
            ]
          },
          "metadata": {},
          "execution_count": 5
        }
      ]
    },
    {
      "cell_type": "code",
      "source": [
        "# Greatly add number of parameters (Model 4)\n",
        "\n",
        "opt_4 = Adam(learning_rate=0.001)\n",
        "\n",
        "model_4 = Sequential([layers.Input((28, 28)),\n",
        "                     layers.Lambda(lambda x: x / 255),\n",
        "                     layers.Flatten(),\n",
        "                     layers.Dense(128, activation='relu'),\n",
        "                     layers.Dense(128, activation='relu'),\n",
        "                     layers.Dense(10, activation='softmax')])\n",
        "\n",
        "model_4.compile(optimizer=opt_4, loss='sparse_categorical_crossentropy', metrics=['accuracy'])\n",
        "\n",
        "model_4.fit(x=X_train, y=y_train, validation_data=(X_test, y_test), epochs=10)"
      ],
      "metadata": {
        "colab": {
          "base_uri": "https://localhost:8080/"
        },
        "id": "KCoY1mXipv5S",
        "outputId": "3a32bf13-eb6e-4eca-b701-a031487d696e"
      },
      "execution_count": 6,
      "outputs": [
        {
          "output_type": "stream",
          "name": "stdout",
          "text": [
            "Epoch 1/10\n",
            "1875/1875 [==============================] - 7s 3ms/step - loss: 0.2299 - accuracy: 0.9329 - val_loss: 0.1377 - val_accuracy: 0.9563\n",
            "Epoch 2/10\n",
            "1875/1875 [==============================] - 7s 4ms/step - loss: 0.0972 - accuracy: 0.9698 - val_loss: 0.0922 - val_accuracy: 0.9722\n",
            "Epoch 3/10\n",
            "1875/1875 [==============================] - 10s 5ms/step - loss: 0.0661 - accuracy: 0.9793 - val_loss: 0.0928 - val_accuracy: 0.9728\n",
            "Epoch 4/10\n",
            "1875/1875 [==============================] - 10s 6ms/step - loss: 0.0506 - accuracy: 0.9837 - val_loss: 0.0693 - val_accuracy: 0.9781\n",
            "Epoch 5/10\n",
            "1875/1875 [==============================] - 6s 3ms/step - loss: 0.0389 - accuracy: 0.9873 - val_loss: 0.0779 - val_accuracy: 0.9781\n",
            "Epoch 6/10\n",
            "1875/1875 [==============================] - 6s 3ms/step - loss: 0.0333 - accuracy: 0.9888 - val_loss: 0.0776 - val_accuracy: 0.9771\n",
            "Epoch 7/10\n",
            "1875/1875 [==============================] - 7s 3ms/step - loss: 0.0267 - accuracy: 0.9905 - val_loss: 0.0974 - val_accuracy: 0.9756\n",
            "Epoch 8/10\n",
            "1875/1875 [==============================] - 7s 3ms/step - loss: 0.0248 - accuracy: 0.9916 - val_loss: 0.1002 - val_accuracy: 0.9760\n",
            "Epoch 9/10\n",
            "1875/1875 [==============================] - 7s 4ms/step - loss: 0.0186 - accuracy: 0.9937 - val_loss: 0.0908 - val_accuracy: 0.9791\n",
            "Epoch 10/10\n",
            "1875/1875 [==============================] - 7s 4ms/step - loss: 0.0185 - accuracy: 0.9939 - val_loss: 0.0964 - val_accuracy: 0.9781\n"
          ]
        },
        {
          "output_type": "execute_result",
          "data": {
            "text/plain": [
              "<keras.callbacks.History at 0x7f2c000f5710>"
            ]
          },
          "metadata": {},
          "execution_count": 6
        }
      ]
    },
    {
      "cell_type": "code",
      "source": [
        "# Add Regularization / Dropout to reduce overfitting\n",
        "\n",
        "from tensorflow.keras.regularizers import L2\n",
        "\n",
        "opt_5 = Adam(learning_rate=0.001)\n",
        "\n",
        "model_5 = Sequential([layers.Input((28, 28)),\n",
        "                     layers.Lambda(lambda x: x / 255),\n",
        "                     layers.Flatten(),\n",
        "                     layers.Dense(128, activation='relu', kernel_regularizer=L2(0.001)),\n",
        "                     layers.Dropout(0.05),\n",
        "                     layers.Dense(128, activation='relu', kernel_regularizer=L2(0.001)),\n",
        "                     layers.Dropout(0.05),\n",
        "                     layers.Dense(128, activation='relu', kernel_regularizer=L2(0.001)),\n",
        "                     layers.Dropout(0.05),\n",
        "                     layers.Dense(10, activation='softmax')])\n",
        "\n",
        "model_5.compile(optimizer=opt_5, loss='sparse_categorical_crossentropy', metrics=['accuracy'])\n",
        "\n",
        "model_5.fit(x=X_train, y=y_train, validation_data=(X_test, y_test), epochs=10)"
      ],
      "metadata": {
        "colab": {
          "base_uri": "https://localhost:8080/"
        },
        "id": "E4uBt1zWqB2-",
        "outputId": "828dde28-ae10-4692-add4-e2d08946bc54"
      },
      "execution_count": 7,
      "outputs": [
        {
          "output_type": "stream",
          "name": "stdout",
          "text": [
            "Epoch 1/10\n",
            "1875/1875 [==============================] - 8s 4ms/step - loss: 0.5118 - accuracy: 0.9202 - val_loss: 0.3284 - val_accuracy: 0.9543\n",
            "Epoch 2/10\n",
            "1875/1875 [==============================] - 8s 4ms/step - loss: 0.3055 - accuracy: 0.9555 - val_loss: 0.2606 - val_accuracy: 0.9631\n",
            "Epoch 3/10\n",
            "1875/1875 [==============================] - 12s 6ms/step - loss: 0.2607 - accuracy: 0.9618 - val_loss: 0.2303 - val_accuracy: 0.9704\n",
            "Epoch 4/10\n",
            "1875/1875 [==============================] - 7s 4ms/step - loss: 0.2459 - accuracy: 0.9630 - val_loss: 0.2294 - val_accuracy: 0.9686\n",
            "Epoch 5/10\n",
            "1875/1875 [==============================] - 8s 4ms/step - loss: 0.2311 - accuracy: 0.9654 - val_loss: 0.2237 - val_accuracy: 0.9652\n",
            "Epoch 6/10\n",
            "1875/1875 [==============================] - 7s 4ms/step - loss: 0.2252 - accuracy: 0.9659 - val_loss: 0.2188 - val_accuracy: 0.9673\n",
            "Epoch 7/10\n",
            "1875/1875 [==============================] - 8s 4ms/step - loss: 0.2215 - accuracy: 0.9658 - val_loss: 0.2079 - val_accuracy: 0.9707\n",
            "Epoch 8/10\n",
            "1875/1875 [==============================] - 8s 4ms/step - loss: 0.2154 - accuracy: 0.9673 - val_loss: 0.1942 - val_accuracy: 0.9729\n",
            "Epoch 9/10\n",
            "1875/1875 [==============================] - 8s 4ms/step - loss: 0.2108 - accuracy: 0.9683 - val_loss: 0.1983 - val_accuracy: 0.9720\n",
            "Epoch 10/10\n",
            "1875/1875 [==============================] - 8s 4ms/step - loss: 0.2111 - accuracy: 0.9674 - val_loss: 0.2072 - val_accuracy: 0.9677\n"
          ]
        },
        {
          "output_type": "execute_result",
          "data": {
            "text/plain": [
              "<keras.callbacks.History at 0x7f2b89b00650>"
            ]
          },
          "metadata": {},
          "execution_count": 7
        }
      ]
    },
    {
      "cell_type": "code",
      "source": [
        "# Increase number of epochs\n",
        "\n",
        "model_5.fit(x=X_train, y=y_train, validation_data=(X_test, y_test), epochs=10)"
      ],
      "metadata": {
        "colab": {
          "base_uri": "https://localhost:8080/"
        },
        "id": "zabGAN1ZrATL",
        "outputId": "783b18b5-1d68-45b4-9046-0109d63b966f"
      },
      "execution_count": 8,
      "outputs": [
        {
          "output_type": "stream",
          "name": "stdout",
          "text": [
            "Epoch 1/10\n",
            "1875/1875 [==============================] - 8s 4ms/step - loss: 0.2051 - accuracy: 0.9695 - val_loss: 0.1823 - val_accuracy: 0.9740\n",
            "Epoch 2/10\n",
            "1875/1875 [==============================] - 7s 4ms/step - loss: 0.2048 - accuracy: 0.9687 - val_loss: 0.2025 - val_accuracy: 0.9695\n",
            "Epoch 3/10\n",
            "1875/1875 [==============================] - 7s 4ms/step - loss: 0.2039 - accuracy: 0.9682 - val_loss: 0.1785 - val_accuracy: 0.9766\n",
            "Epoch 4/10\n",
            "1875/1875 [==============================] - 7s 4ms/step - loss: 0.2015 - accuracy: 0.9689 - val_loss: 0.2016 - val_accuracy: 0.9683\n",
            "Epoch 5/10\n",
            "1875/1875 [==============================] - 7s 4ms/step - loss: 0.2015 - accuracy: 0.9693 - val_loss: 0.1836 - val_accuracy: 0.9751\n",
            "Epoch 6/10\n",
            "1875/1875 [==============================] - 8s 4ms/step - loss: 0.1978 - accuracy: 0.9693 - val_loss: 0.1932 - val_accuracy: 0.9724\n",
            "Epoch 7/10\n",
            "1875/1875 [==============================] - 7s 4ms/step - loss: 0.2002 - accuracy: 0.9688 - val_loss: 0.1935 - val_accuracy: 0.9730\n",
            "Epoch 8/10\n",
            "1875/1875 [==============================] - 7s 4ms/step - loss: 0.1976 - accuracy: 0.9699 - val_loss: 0.1972 - val_accuracy: 0.9702\n",
            "Epoch 9/10\n",
            "1875/1875 [==============================] - 8s 4ms/step - loss: 0.1984 - accuracy: 0.9689 - val_loss: 0.1853 - val_accuracy: 0.9728\n",
            "Epoch 10/10\n",
            "1875/1875 [==============================] - 8s 4ms/step - loss: 0.1949 - accuracy: 0.9708 - val_loss: 0.1814 - val_accuracy: 0.9762\n"
          ]
        },
        {
          "output_type": "execute_result",
          "data": {
            "text/plain": [
              "<keras.callbacks.History at 0x7f2b89b11b50>"
            ]
          },
          "metadata": {},
          "execution_count": 8
        }
      ]
    },
    {
      "cell_type": "code",
      "source": [
        ""
      ],
      "metadata": {
        "id": "thy9CJiKt2L0"
      },
      "execution_count": null,
      "outputs": []
    }
  ]
}